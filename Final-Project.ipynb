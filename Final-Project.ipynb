##Now let's load these datasets into four separate Db2 tables.
library(RODBC)

##Problem 1
##Create tables
##Establish a connection to the Db2 database, and create the following foEstablish a connection to the Db2 database, and create the following four tables using the RODBC package in R. Use the separate cells provided below to create each of your tables.

    #CROP_DATA
    #FARM_PRICES
    #DAILY_FX
    #MONTHLY_FX

##Solution 1
# Establish database connection
dsn_driver <- "{IBM DB2 ODBC Driver}"
dsn_database <- "bludb"
dsn_hostname <- "ba99a9e6-d59e-4883-8fc0-d6a8c9f7a08f.c1ogj3sd0tgtu0lqde00.databases.appdomain.cloud"
dsn_port <- "31321"
dsn_protocol <- "TCPIP"
dsn_uid <- "zlp27910"
dsn_pwd <- "cIFvdMSoDFIDm1mU" 
dsn_security <- "ssl"

conn_path <- paste("DRIVER=",dsn_driver,
              	";DATABASE=",dsn_database,
              	";HOSTNAME=",dsn_hostname,
              	";PORT=",dsn_port,
              	";PROTOCOL=",dsn_protocol,
              	";UID=",dsn_uid,
              	";PWD=",dsn_pwd,
              	";SECURITY=",dsn_security,   	 
                	sep="")
conn <- odbcDriverConnect(conn_path)
conn

# CROP_DATA:
df1 <- sqlQuery(conn,
                	"CREATE TABLE CROP_DATA (
                                  	CD_ID INTEGER NOT NULL,
                                  	YEAR DATE NOT NULL,
                                  	CROP_TYPE VARCHAR(20) NOT NULL,
                                  	GEO VARCHAR(20) NOT NULL,
                                  	SEEDED_AREA INTEGER NOT NULL,
                                  	HARVESTED_AREA INTEGER NOT NULL,
                                  	PRODUCTION INTEGER NOT NULL,
                                  	AVG_YIELD INTEGER NOT NULL,
                                  	PRIMARY KEY (CD_ID)
                                  	)",
                	errors=FALSE
                	)

	if (df1 == -1){
    	shcat ("An error has occurred.\n")
    	msg <- odbcGetErrMsg(conn)
    	print (msg)
	} else {
    	cat ("Table was created successfully.\n")
	}
 
# FARM_PRICES:
df2 <- sqlQuery(conn,
                	"CREATE TABLE FARM_PRICES (
                                  	CD_ID INTEGER NOT NULL,
                                  	DATE DATE NOT NULL,
                                  	CROP_TYPE VARCHAR(20) NOT NULL,
                                  	GEO VARCHAR(20) NOT NULL,
                                  	PRICE_PRERMT DECIMAL NOT NULL,
                                  	PRIMARY KEY (CD_ID)
                                  	)",
                	errors=FALSE
                	)

	if (df2 == -1){
    	shcat ("An error has occurred.\n")
    	msg <- odbcGetErrMsg(conn)
    	print (msg)
	} else {
    	cat ("Table was created successfully.\n")
	}
 
# DAILY_FX:
df3 <- sqlQuery(conn,
                	"CREATE TABLE DAILY_FX (
                                  	DFX_ID INTEGER NOT NULL,
                                  	DATE DATE NOT NULL,
                                  	FXUSDCAD FLOAT(6) NOT NULL,
                                  	PRIMARY KEY (DFX_ID)
                                  	)",
                	errors=FALSE
                	)

	if (df3 == -1){
    	shcat ("An error has occurred.\n")
    	msg <- odbcGetErrMsg(conn)
    	print (msg)
	} else {
    	cat ("Table was created successfully.\n")
	}
 
# MONTHLY_FX:
df4 <- sqlQuery(conn,
                	"CREATE TABLE MONTHLY_FX (
                                  	CD_ID INTEGER NOT NULL,
                                  	DATE DATE NOT NULL,
                                  	CROP_TYPE VARCHAR(20) NOT NULL,
                                  	GEO VARCHAR(20) NOT NULL,
                                  	PRICE_PRERMT DECIMAL NOT NULL,
                                  	PRIMARY KEY (CD_ID)
                                  	)",
                	errors=FALSE
                	)

	if (df4 == -1){
    	shcat ("An error has occurred.\n")
    	msg <- odbcGetErrMsg(conn)
    	print (msg)
	} else {
    	cat ("Table was created successfully.\n")
	}
 
##Problem 2
##Read Datasets and Load Tables. Read the datasets into R dataframes using the urls provided above. Then load your tables.
 
#Solution 2
crop_df <- read.csv('https://cf-courses-data.s3.us.cloud-object-storage.appdomain.cloud/IBM-RP0203EN-SkillsNetwork/labs/Final%20Project/Annual_Crop_Data.csv', colClasses=c(YEAR="character"))

sqlSave(conn, crop_df, "CROP_DATA", append=TRUE, fast=FALSE, rownames=FALSE, colnames=FALSE, verbose=FALSE)

farm_df <- read.csv('https://cf-courses-data.s3.us.cloud-object-storage.appdomain.cloud/IBM-RP0203EN-SkillsNetwork/labs/Final%20Project/Monthly_Farm_Prices.csv', colClasses=c(DATE="character"))

sqlSave(conn, farm_df, "FARM_PRICES", append=TRUE, fast=FALSE, rownames=FALSE, colnames=FALSE, verbose=FALSE)

monthly_df <- read.csv('https://cf-courses-data.s3.us.cloud-object-storage.appdomain.cloud/IBM-RP0203EN-SkillsNetwork/labs/Final%20Project/Monthly_FX.csv', colClasses=c(DATE="character"))

sqlSave(conn, monthly_df, "MONTHLY_FX", append=TRUE, fast=FALSE, rownames=FALSE, colnames=FALSE, verbose=FALSE)

daily_df <- read.csv('https://cf-courses-data.s3.us.cloud-object-storage.appdomain.cloud/IBM-RP0203EN-SkillsNetwork/labs/Final%20Project/Daily_FX.csv', colClasses=c(DATE="character"))

sqlSave(conn, daily_df, "DAILY_FX", append=TRUE, fast=FALSE, rownames=FALSE, colnames=FALSE, verbose=FALSE)
